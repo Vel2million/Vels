{
 "metadata": {
  "language_info": {
   "codemirror_mode": {
    "name": "ipython",
    "version": 3
   },
   "file_extension": ".py",
   "mimetype": "text/x-python",
   "name": "python",
   "nbconvert_exporter": "python",
   "pygments_lexer": "ipython3",
   "version": "3.9.1-final"
  },
  "orig_nbformat": 2,
  "kernelspec": {
   "name": "python3",
   "display_name": "Python 3",
   "language": "python"
  }
 },
 "nbformat": 4,
 "nbformat_minor": 2,
 "cells": [
  {
   "cell_type": "code",
   "execution_count": null,
   "metadata": {},
   "outputs": [],
   "source": [
    "import pandas as pd"
   ]
  },
  {
   "cell_type": "code",
   "execution_count": null,
   "metadata": {},
   "outputs": [],
   "source": [
    "# 1.\tUse pandas function to read the Test_Pandas.xlsx file in:\n",
    "#   a.\tAssign the result to a variable named “data”\n",
    "#   b.\tAssign all column names to a variable named “columns”\n",
    "excel_files = 'Test_Pandas.xlsx'\n",
    "#a\n",
    "data = pd.read_excel(excel_files)\n",
    "#b\n",
    "columns = data.columns"
   ]
  },
  {
   "cell_type": "code",
   "execution_count": null,
   "metadata": {},
   "outputs": [],
   "source": [
    "# shopid\titem_name\titem_description\titem_variation\tprice\tstock\tcategory\tcb_option\tis_preferred\tsold_count\titem_creation_date"
   ]
  },
  {
   "cell_type": "code",
   "execution_count": null,
   "metadata": {},
   "outputs": [],
   "source": [
    "# 2.\tUse pandas function to find:\n",
    "#     a.\tHow many unique shops are in the dataset?\n",
    "#     b.\tHow many unique preferred and cross border shops are in the dataset?\n",
    "#     c.\tHow many products have zero sold count?\n",
    "#     d.\tHow many products were created in the year 2018?\n",
    "\n",
    "#a\n",
    "data['shopid'].unique\n",
    "#b\n",
    "#c\n",
    "data[data['sold_count'] == 0]\n",
    "#d\n",
    "start_date = pd.to_datetime('2018-01-01')\n",
    "end_date = pd.to_datetime('2018-12-31')\n",
    "data[data['item_creation_date'].between(start_date, end_date)]"
   ]
  },
  {
   "cell_type": "code",
   "execution_count": null,
   "metadata": {},
   "outputs": [],
   "source": [
    "# 3.\tUse pandas function to find:\n",
    "#     a.\tTop 3 Preferred shops’ shopid that have the largest number of unique products\n",
    "data[data['is_preferred'] == True]\n",
    "#     b.\tTop 3 Categories that have the largest number of unique cross-border products\n",
    "data[data['is_preferred'] == True]"
   ]
  },
  {
   "cell_type": "code",
   "execution_count": null,
   "metadata": {},
   "outputs": [],
   "source": [
    "# 4.\tFind Top 3 shopid with the highest revenue (Assumption: the product price has not been changed.) \n",
    "data['revenue'] = data['sold_count'] * data['price']\n",
    "data['revenue'].sort_values(ascending=False).head(3)"
   ]
  },
  {
   "cell_type": "code",
   "execution_count": null,
   "metadata": {},
   "outputs": [],
   "source": [
    "# 5.\tFind number of products that have more than 3 variations (do not include products with 3 or fewer variations)\n",
    "data['item_variation'].fillna(0, inplace=True)\n",
    "filter = pd.to_numeric(data['item_variation']) > 3 # data type error, need string replacement \n",
    "data[filter]"
   ]
  },
  {
   "cell_type": "code",
   "execution_count": 82,
   "metadata": {},
   "outputs": [
    {
     "output_type": "execute_result",
     "data": {
      "text/plain": [
       "0         False\n",
       "1          True\n",
       "2          True\n",
       "3          True\n",
       "4         False\n",
       "          ...  \n",
       "464428     True\n",
       "464429     True\n",
       "464430     True\n",
       "464431     True\n",
       "464432     True\n",
       "Name: shopid, Length: 464433, dtype: bool"
      ]
     },
     "metadata": {},
     "execution_count": 82
    }
   ],
   "source": [
    "# 6.\tUse pandas function to identify duplicated listings within each shop (If listing A and B in shop S have the exactly same product title, product detailed description, and price, both listing A and B are considered as duplicated listings)\n",
    "#     a.\tMark those duplicated listings with True otherwise False and store the marking result in a new column named “is_duplicated” \n",
    "#     b.\tFind duplicate listings that has less than 2 sold count and store the result in a new excel file named “duplicated_listings.xlsx”\n",
    "#     c.\tFind the preferred shop shopid that have the most number of duplicated listings\n",
    "#a\n",
    "data['is_duplicated'] = data[['item_name', 'item_description', 'price']].duplicated()\n",
    "#b\n",
    "#c\n",
    "dups = data.pivot_table(index = ['shopid'], aggfunc ='size') \n",
    "max(dups)"
   ]
  }
 ]
}